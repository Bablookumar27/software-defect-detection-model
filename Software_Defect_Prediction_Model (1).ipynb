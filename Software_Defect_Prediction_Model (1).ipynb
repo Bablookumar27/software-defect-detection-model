{
  "cells": [
    {
      "cell_type": "markdown",
      "metadata": {
        "id": "-ejN6VAAAZvs"
      },
      "source": [
        "# Software Defect Prediction Using Machine Learning\n",
        "This notebook demonstrates how to build a machine learning model to predict software defects using the NASA CM1 dataset or similar."
      ],
      "id": "-ejN6VAAAZvs"
    },
    {
      "cell_type": "code",
      "execution_count": null,
      "metadata": {
        "id": "sQY8ZflyAZvv"
      },
      "outputs": [],
      "source": [
        "# Step 1: Install required packages\n",
        "!pip install pandas scikit-learn matplotlib seaborn imbalanced-learn xgboost"
      ],
      "id": "sQY8ZflyAZvv"
    },
    {
      "cell_type": "code",
      "execution_count": 1,
      "metadata": {
        "id": "19bwvE4NAZvw"
      },
      "outputs": [],
      "source": [
        "# Step 2: Import Libraries\n",
        "import pandas as pd\n",
        "import seaborn as sns\n",
        "import matplotlib.pyplot as plt\n",
        "from sklearn.model_selection import train_test_split, GridSearchCV\n",
        "from sklearn.ensemble import RandomForestClassifier\n",
        "from sklearn.linear_model import LogisticRegression\n",
        "from sklearn.metrics import classification_report, confusion_matrix\n",
        "from sklearn.preprocessing import StandardScaler\n",
        "from sklearn.feature_selection import VarianceThreshold\n",
        "from imblearn.over_sampling import SMOTE\n",
        "from xgboost import XGBClassifier\n",
        "import joblib"
      ],
      "id": "19bwvE4NAZvw"
    },
    {
      "cell_type": "code",
      "execution_count": 22,
      "metadata": {
        "colab": {
          "base_uri": "https://localhost:8080/"
        },
        "id": "jLSKuI_QAZvw",
        "outputId": "9713888d-5e62-43ac-91df-237be0110861"
      },
      "outputs": [
        {
          "output_type": "stream",
          "name": "stdout",
          "text": [
            "   McCabe's line count of code  McCabe \"cyclomatic complexity”  \\\n",
            "0                          1.1                             1.4   \n",
            "1                          1.0                             1.0   \n",
            "2                         24.0                             5.0   \n",
            "3                         20.0                             4.0   \n",
            "4                         24.0                             6.0   \n",
            "\n",
            "   McCabe \"essential complexity”  McCabe \"design complexity”  \\\n",
            "0                            1.4                         1.4   \n",
            "1                            1.0                         1.0   \n",
            "2                            1.0                         3.0   \n",
            "3                            4.0                         2.0   \n",
            "4                            6.0                         2.0   \n",
            "\n",
            "   Halstead total operators + operands  Halstead \"volume”  \\\n",
            "0                                  1.3               1.30   \n",
            "1                                  1.0               1.00   \n",
            "2                                 63.0             309.13   \n",
            "3                                 47.0             215.49   \n",
            "4                                 72.0             346.13   \n",
            "\n",
            "   Halstead \"program length”  Halstead \"difficulty”  Halstead \"intelligence”  \\\n",
            "0                       1.30                   1.30                     1.30   \n",
            "1                       1.00                   1.00                     1.00   \n",
            "2                       0.11                   9.50                    32.54   \n",
            "3                       0.06                  16.00                    13.47   \n",
            "4                       0.06                  17.33                    19.97   \n",
            "\n",
            "   Halstead \"effort”  ...  Halstead's line count  \\\n",
            "0               1.30  ...                      2   \n",
            "1               1.00  ...                      1   \n",
            "2            2936.77  ...                      1   \n",
            "3            3447.89  ...                      0   \n",
            "4            5999.58  ...                      0   \n",
            "\n",
            "   Halstead's count of lines of comments  Halstead's count of blank  \\\n",
            "0                                      2                          2   \n",
            "1                                      1                          1   \n",
            "2                                      0                          6   \n",
            "3                                      0                          3   \n",
            "4                                      0                          3   \n",
            "\n",
            "   lineslOCodeAndComment  unique operators  unique operands  total operators  \\\n",
            "0                      2               1.2              1.2              1.2   \n",
            "1                      1               1.0              1.0              1.0   \n",
            "2                      0              15.0             15.0             44.0   \n",
            "3                      0              16.0              8.0             31.0   \n",
            "4                      0              16.0             12.0             46.0   \n",
            "\n",
            "   total operands  branchCount of the flow graph  defects  \n",
            "0             1.2                            1.4    False  \n",
            "1             1.0                            1.0     True  \n",
            "2            19.0                            9.0    False  \n",
            "3            16.0                            7.0    False  \n",
            "4            26.0                           11.0    False  \n",
            "\n",
            "[5 rows x 22 columns]\n",
            "<class 'pandas.core.frame.DataFrame'>\n",
            "RangeIndex: 498 entries, 0 to 497\n",
            "Data columns (total 22 columns):\n",
            " #   Column                                 Non-Null Count  Dtype  \n",
            "---  ------                                 --------------  -----  \n",
            " 0   McCabe's line count of code            498 non-null    float64\n",
            " 1   McCabe \"cyclomatic complexity”         498 non-null    float64\n",
            " 2   McCabe \"essential complexity”          498 non-null    float64\n",
            " 3   McCabe \"design complexity”             498 non-null    float64\n",
            " 4   Halstead total operators + operands    498 non-null    float64\n",
            " 5   Halstead \"volume”                      498 non-null    float64\n",
            " 6   Halstead \"program length”              498 non-null    float64\n",
            " 7   Halstead \"difficulty”                  498 non-null    float64\n",
            " 8   Halstead \"intelligence”                498 non-null    float64\n",
            " 9   Halstead \"effort”                      498 non-null    float64\n",
            " 10  Halstead                               498 non-null    float64\n",
            " 11  Halstead's time estimator              498 non-null    float64\n",
            " 12  Halstead's line count                  498 non-null    int64  \n",
            " 13  Halstead's count of lines of comments  498 non-null    int64  \n",
            " 14  Halstead's count of blank              498 non-null    int64  \n",
            " 15  lineslOCodeAndComment                  498 non-null    int64  \n",
            " 16  unique operators                       498 non-null    float64\n",
            " 17  unique operands                        498 non-null    float64\n",
            " 18  total operators                        498 non-null    float64\n",
            " 19  total operands                         498 non-null    float64\n",
            " 20  branchCount of the flow graph          498 non-null    float64\n",
            " 21  defects                                498 non-null    bool   \n",
            "dtypes: bool(1), float64(17), int64(4)\n",
            "memory usage: 82.3 KB\n",
            "None\n",
            "McCabe's line count of code              0\n",
            "McCabe \"cyclomatic complexity”           0\n",
            "McCabe \"essential complexity”            0\n",
            "McCabe \"design complexity”               0\n",
            "Halstead total operators + operands      0\n",
            "Halstead \"volume”                        0\n",
            "Halstead \"program length”                0\n",
            "Halstead \"difficulty”                    0\n",
            "Halstead \"intelligence”                  0\n",
            "Halstead \"effort”                        0\n",
            "Halstead                                 0\n",
            "Halstead's time estimator                0\n",
            "Halstead's line count                    0\n",
            "Halstead's count of lines of comments    0\n",
            "Halstead's count of blank                0\n",
            "lineslOCodeAndComment                    0\n",
            "unique operators                         0\n",
            "unique operands                          0\n",
            "total operators                          0\n",
            "total operands                           0\n",
            "branchCount of the flow graph            0\n",
            "defects                                  0\n",
            "dtype: int64\n"
          ]
        }
      ],
      "source": [
        "# Step 3: Load Dataset (change filename as needed)\n",
        "df = pd.read_csv(\"/cm1.csv\")\n",
        "print(df.head())\n",
        "print(df.info())\n",
        "print(df.isna().sum())\n"
      ],
      "id": "jLSKuI_QAZvw"
    },
    {
      "cell_type": "code",
      "source": [
        "df_cleaned = df.dropna(subset=['defects'])\n"
      ],
      "metadata": {
        "id": "Qm_FcX1aJ7mK"
      },
      "id": "Qm_FcX1aJ7mK",
      "execution_count": 23,
      "outputs": []
    },
    {
      "cell_type": "code",
      "execution_count": 14,
      "metadata": {
        "id": "AYCRrlT7AZvw"
      },
      "outputs": [],
      "source": [
        "# Step 4: Data Preprocessing\n",
        "df['defects'] = df['defects'].map({'Y': 1, 'N': 0})\n",
        "\n",
        "# Remove low variance features\n",
        "sel = VarianceThreshold(threshold=0.01)\n",
        "X = df.drop('defects', axis=1)\n",
        "X_selected = sel.fit_transform(X)\n",
        "X_selected = pd.DataFrame(X_selected)\n",
        "\n",
        "# Normalize data\n",
        "scaler = StandardScaler()\n",
        "X_scaled = scaler.fit_transform(X_selected)\n",
        "y = df['defects']"
      ],
      "id": "AYCRrlT7AZvw"
    },
    {
      "cell_type": "code",
      "execution_count": 24,
      "metadata": {
        "id": "RroI8ueRAZvw"
      },
      "outputs": [],
      "source": [
        "from sklearn.feature_selection import VarianceThreshold\n",
        "from sklearn.preprocessing import StandardScaler\n",
        "from sklearn.model_selection import train_test_split\n",
        "from imblearn.over_sampling import SMOTE\n",
        "import pandas as pd\n",
        "\n",
        "# Assume df_cleaned is the DataFrame after dropping NaNs in 'defects' (your code)\n",
        "X = df_cleaned.drop('defects', axis=1)\n",
        "y = df_cleaned['defects']\n",
        "\n",
        "# Variance Threshold - Feature selection\n",
        "sel = VarianceThreshold(threshold=0.01)\n",
        "X_selected_np = sel.fit_transform(X)  # numpy array\n",
        "\n",
        "# Get selected feature columns (boolean mask)\n",
        "selected_features_mask = sel.get_support()\n",
        "\n",
        "# Keep selected column names\n",
        "selected_columns = X.columns[selected_features_mask]\n",
        "\n",
        "# Re-create DataFrame with selected columns, keeping the original index\n",
        "X_selected = pd.DataFrame(X_selected_np, columns=selected_columns, index=X.index)\n",
        "\n",
        "# Now scale\n",
        "scaler = StandardScaler()\n",
        "X_scaled = scaler.fit_transform(X_selected)\n",
        "\n",
        "# Important: Align y index with X_selected's index\n",
        "y_aligned = y.loc[X_selected.index]\n",
        "\n",
        "# Now do train-test split\n",
        "X_train, X_test, y_train, y_test = train_test_split(\n",
        "    X_scaled, y_aligned, test_size=0.3, stratify=y_aligned, random_state=42\n",
        ")\n",
        "\n",
        "# SMOTE oversampling\n",
        "sm = SMOTE(random_state=42)\n",
        "X_train_res, y_train_res = sm.fit_resample(X_train, y_train)\n"
      ],
      "id": "RroI8ueRAZvw"
    },
    {
      "cell_type": "code",
      "execution_count": 25,
      "metadata": {
        "colab": {
          "base_uri": "https://localhost:8080/"
        },
        "id": "1ozy7c3CAZvw",
        "outputId": "10dcc173-75f8-4708-fe7b-aced10cfd704"
      },
      "outputs": [
        {
          "output_type": "stream",
          "name": "stdout",
          "text": [
            "\n",
            "Logistic Regression\n",
            "[[102  33]\n",
            " [  7   8]]\n",
            "              precision    recall  f1-score   support\n",
            "\n",
            "       False       0.94      0.76      0.84       135\n",
            "        True       0.20      0.53      0.29        15\n",
            "\n",
            "    accuracy                           0.73       150\n",
            "   macro avg       0.57      0.64      0.56       150\n",
            "weighted avg       0.86      0.73      0.78       150\n",
            "\n",
            "\n",
            "Random Forest\n",
            "[[120  15]\n",
            " [ 10   5]]\n",
            "              precision    recall  f1-score   support\n",
            "\n",
            "       False       0.92      0.89      0.91       135\n",
            "        True       0.25      0.33      0.29        15\n",
            "\n",
            "    accuracy                           0.83       150\n",
            "   macro avg       0.59      0.61      0.60       150\n",
            "weighted avg       0.86      0.83      0.84       150\n",
            "\n"
          ]
        },
        {
          "output_type": "stream",
          "name": "stderr",
          "text": [
            "/usr/local/lib/python3.11/dist-packages/xgboost/core.py:158: UserWarning: [07:46:20] WARNING: /workspace/src/learner.cc:740: \n",
            "Parameters: { \"use_label_encoder\" } are not used.\n",
            "\n",
            "  warnings.warn(smsg, UserWarning)\n"
          ]
        },
        {
          "output_type": "stream",
          "name": "stdout",
          "text": [
            "\n",
            "XGBoost\n",
            "[[117  18]\n",
            " [ 12   3]]\n",
            "              precision    recall  f1-score   support\n",
            "\n",
            "       False       0.91      0.87      0.89       135\n",
            "        True       0.14      0.20      0.17        15\n",
            "\n",
            "    accuracy                           0.80       150\n",
            "   macro avg       0.52      0.53      0.53       150\n",
            "weighted avg       0.83      0.80      0.81       150\n",
            "\n"
          ]
        }
      ],
      "source": [
        "# Step 7: Train and Evaluate Models\n",
        "models = {\n",
        "    \"Logistic Regression\": LogisticRegression(max_iter=1000),\n",
        "    \"Random Forest\": RandomForestClassifier(),\n",
        "    \"XGBoost\": XGBClassifier(use_label_encoder=False, eval_metric='logloss')\n",
        "}\n",
        "\n",
        "for name, model in models.items():\n",
        "    model.fit(X_train_res, y_train_res)\n",
        "    y_pred = model.predict(X_test)\n",
        "    print(f\"\\n{name}\")\n",
        "    print(confusion_matrix(y_test, y_pred))\n",
        "    print(classification_report(y_test, y_pred))"
      ],
      "id": "1ozy7c3CAZvw"
    },
    {
      "cell_type": "code",
      "execution_count": 26,
      "metadata": {
        "colab": {
          "base_uri": "https://localhost:8080/"
        },
        "id": "CAeCGF9hAZvx",
        "outputId": "2606a8ba-9462-44de-ab57-6cb13230e5f1"
      },
      "outputs": [
        {
          "output_type": "stream",
          "name": "stdout",
          "text": [
            "Best Parameters: {'max_depth': 10, 'n_estimators': 50}\n",
            "              precision    recall  f1-score   support\n",
            "\n",
            "       False       0.91      0.83      0.87       135\n",
            "        True       0.15      0.27      0.19        15\n",
            "\n",
            "    accuracy                           0.77       150\n",
            "   macro avg       0.53      0.55      0.53       150\n",
            "weighted avg       0.83      0.77      0.80       150\n",
            "\n"
          ]
        }
      ],
      "source": [
        "# Step 8: Hyperparameter Tuning for Random Forest\n",
        "param_grid = {\n",
        "    'n_estimators': [50, 100, 150],\n",
        "    'max_depth': [3, 5, 10]\n",
        "}\n",
        "grid = GridSearchCV(RandomForestClassifier(), param_grid, cv=5, scoring='f1')\n",
        "grid.fit(X_train_res, y_train_res)\n",
        "print(\"Best Parameters:\", grid.best_params_)\n",
        "\n",
        "y_pred_best = grid.predict(X_test)\n",
        "print(classification_report(y_test, y_pred_best))"
      ],
      "id": "CAeCGF9hAZvx"
    },
    {
      "cell_type": "code",
      "execution_count": 27,
      "metadata": {
        "colab": {
          "base_uri": "https://localhost:8080/",
          "height": 452
        },
        "id": "E0KjjeZ9AZvx",
        "outputId": "6c27fba9-6967-4ac5-ebf2-ceaa00802d40"
      },
      "outputs": [
        {
          "output_type": "display_data",
          "data": {
            "text/plain": [
              "<Figure size 640x480 with 1 Axes>"
            ],
            "image/png": "[encoded data removed]"
          },
          "metadata": {}
        }
      ],
      "source": [
        "# Step 9: Feature Importance\n",
        "importances = grid.best_estimator_.feature_importances_\n",
        "sns.barplot(x=importances, y=[f\"F{i}\" for i in range(len(importances))])\n",
        "plt.title(\"Feature Importance\")\n",
        "plt.show()"
      ],
      "id": "E0KjjeZ9AZvx"
    },
    {
      "cell_type": "code",
      "execution_count": 28,
      "metadata": {
        "colab": {
          "base_uri": "https://localhost:8080/"
        },
        "id": "LmU_sYzrAZvx",
        "outputId": "00e44be4-0796-439a-9c4e-c6a4e0e85f38"
      },
      "outputs": [
        {
          "output_type": "execute_result",
          "data": {
            "text/plain": [
              "['defect_predictor.pkl']"
            ]
          },
          "metadata": {},
          "execution_count": 28
        }
      ],
      "source": [
        "# Step 10: Save the Model\n",
        "joblib.dump(grid.best_estimator_, 'defect_predictor.pkl')"
      ],
      "id": "LmU_sYzrAZvx"
    },
    {
      "cell_type": "code",
      "source": [
        "joblib.dump(scaler, 'scaler.pkl')\n"
      ],
      "metadata": {
        "colab": {
          "base_uri": "https://localhost:8080/"
        },
        "id": "QtgMw-guKwId",
        "outputId": "fb614af0-d41d-4944-f9f2-3f3dd0df033b"
      },
      "id": "QtgMw-guKwId",
      "execution_count": 29,
      "outputs": [
        {
          "output_type": "execute_result",
          "data": {
            "text/plain": [
              "['scaler.pkl']"
            ]
          },
          "metadata": {},
          "execution_count": 29
        }
      ]
    },
    {
      "cell_type": "code",
      "source": [
        "y_pred = model.predict(X_test)\n"
      ],
      "metadata": {
        "id": "CgtaKYw_MASI"
      },
      "id": "CgtaKYw_MASI",
      "execution_count": 30,
      "outputs": []
    },
    {
      "cell_type": "code",
      "source": [
        "from sklearn.metrics import accuracy_score\n",
        "\n",
        "accuracy = accuracy_score(y_test, y_pred)\n",
        "print(\"Accuracy:\", accuracy)\n"
      ],
      "metadata": {
        "colab": {
          "base_uri": "https://localhost:8080/"
        },
        "id": "kH4q76oCMEHN",
        "outputId": "48373c5b-f12d-4d53-9b05-892c67016483"
      },
      "id": "kH4q76oCMEHN",
      "execution_count": 31,
      "outputs": [
        {
          "output_type": "stream",
          "name": "stdout",
          "text": [
            "Accuracy: 0.8\n"
          ]
        }
      ]
    }
  ],
  "metadata": {
    "kernelspec": {
      "display_name": "Python 3",
      "language": "python",
      "name": "python3"
    },
    "language_info": {
      "name": "python",
      "version": "3.10"
    },
    "colab": {
      "provenance": []
    }
  },
  "nbformat": 4,
  "nbformat_minor": 5
}